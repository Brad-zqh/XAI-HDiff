{
 "cells": [
  {
   "cell_type": "code",
   "execution_count": 1,
   "metadata": {},
   "outputs": [],
   "source": [
    "import numpy as np\n",
    "import pandas as pd\n",
    "\n",
    "from sklearn.model_selection import train_test_split, StratifiedKFold, RepeatedStratifiedKFold, GridSearchCV, cross_val_score\n",
    "from sklearn.metrics import f1_score, roc_auc_score, accuracy_score\n",
    "from sklearn.impute import KNNImputer\n",
    "\n",
    "from sklearn.utils import shuffle\n",
    "\n",
    "import xgboost as xgb\n",
    "\n",
    "import matplotlib.pyplot as plt\n",
    "from matplotlib import cm\n",
    "import seaborn as sns\n",
    " \n",
    "# plt.rcParams['savefig.dpi'] = 300\n",
    "# plt.rcParams['figure.dpi'] = 300\n",
    "\n",
    "SEED = 42\n",
    "np.random.seed(SEED)"
   ]
  },
  {
   "cell_type": "code",
   "execution_count": 2,
   "metadata": {},
   "outputs": [],
   "source": [
    "from models import DataManager, ModelBuilder, SHAPExplainer"
   ]
  },
  {
   "cell_type": "markdown",
   "metadata": {
    "tags": []
   },
   "source": [
    "# 1. Data\n",
    "## 1.1 Load Data"
   ]
  },
  {
   "cell_type": "code",
   "execution_count": 3,
   "metadata": {
    "scrolled": true
   },
   "outputs": [
    {
     "name": "stdout",
     "output_type": "stream",
     "text": [
      "<class 'pandas.core.frame.DataFrame'>\n",
      "RangeIndex: 1904 entries, 0 to 1903\n",
      "Data columns (total 21 columns):\n",
      " #   Column        Non-Null Count  Dtype  \n",
      "---  ------        --------------  -----  \n",
      " 0   Area          1904 non-null   object \n",
      " 1   Location      1904 non-null   object \n",
      " 2   Rock type     1904 non-null   object \n",
      " 3   Rock Label    1846 non-null   object \n",
      " 4   Sample type   1904 non-null   object \n",
      " 5   Point Label   1904 non-null   object \n",
      " 6   Geo_Set       1904 non-null   object \n",
      " 7   latitude      1904 non-null   float64\n",
      " 8   longitude     1904 non-null   float64\n",
      " 9   No.           1904 non-null   int64  \n",
      " 10  Si            1904 non-null   float64\n",
      " 11  Ti            1904 non-null   float64\n",
      " 12  Al            1904 non-null   float64\n",
      " 13  Cr            1904 non-null   float64\n",
      " 14  Fe            1904 non-null   float64\n",
      " 15  Ca            1904 non-null   float64\n",
      " 16  Mg            1904 non-null   float64\n",
      " 17  Mn            1904 non-null   float64\n",
      " 18  Na            1868 non-null   float64\n",
      " 19  H$_{2}$O      1904 non-null   float64\n",
      " 20  label         1904 non-null   int64  \n",
      "dtypes: float64(12), int64(2), object(7)\n",
      "memory usage: 312.5+ KB\n",
      "None\n",
      "Stats for data_y: Counter({1: 1461, 0: 443})\n"
     ]
    }
   ],
   "source": [
    "dMana = DataManager(r\"D:\\pre_grad_research\\MantleWater\\HDiff-XAI\\all_data_20220606.xlsx\", sheet_name='train')\n",
    "dMana.choose_X_y([10, 11, 12, 13, 14, 15, 16, 17, 18, 19], 20)"
   ]
  },
  {
   "cell_type": "markdown",
   "metadata": {
    "tags": []
   },
   "source": [
    "## 1.2 Missing value Imputation"
   ]
  },
  {
   "cell_type": "markdown",
   "metadata": {},
   "source": [
    "### 1.2.1 kNN Imputation"
   ]
  },
  {
   "cell_type": "code",
   "execution_count": 4,
   "metadata": {
    "scrolled": true
   },
   "outputs": [
    {
     "name": "stdout",
     "output_type": "stream",
     "text": [
      "<class 'pandas.core.frame.DataFrame'>\n",
      "RangeIndex: 1904 entries, 0 to 1903\n",
      "Data columns (total 10 columns):\n",
      " #   Column    Non-Null Count  Dtype  \n",
      "---  ------    --------------  -----  \n",
      " 0   Si        1904 non-null   float64\n",
      " 1   Ti        1904 non-null   float64\n",
      " 2   Al        1904 non-null   float64\n",
      " 3   Cr        1904 non-null   float64\n",
      " 4   Fe        1904 non-null   float64\n",
      " 5   Ca        1904 non-null   float64\n",
      " 6   Mg        1904 non-null   float64\n",
      " 7   Mn        1904 non-null   float64\n",
      " 8   Na        1904 non-null   float64\n",
      " 9   H$_{2}$O  1904 non-null   float64\n",
      "dtypes: float64(10)\n",
      "memory usage: 148.9 KB\n",
      "None\n"
     ]
    }
   ],
   "source": [
    "dMana.impute(neighbor_cnt=30)"
   ]
  },
  {
   "cell_type": "markdown",
   "metadata": {},
   "source": [
    "## 1.3 Train-test split"
   ]
  },
  {
   "cell_type": "code",
   "execution_count": 5,
   "metadata": {
    "scrolled": true
   },
   "outputs": [
    {
     "name": "stdout",
     "output_type": "stream",
     "text": [
      "Training X: (1523, 10) Testing X: (381, 10)\n",
      "Training Y: (1523,) Testing y: (381,)\n"
     ]
    }
   ],
   "source": [
    "dMana.split_train_test(ratio=0.2)"
   ]
  },
  {
   "cell_type": "markdown",
   "metadata": {},
   "source": [
    "# 2. Model"
   ]
  },
  {
   "cell_type": "markdown",
   "metadata": {},
   "source": [
    "## 2.1 Fixed Hyperparameters"
   ]
  },
  {
   "cell_type": "code",
   "execution_count": 6,
   "metadata": {
    "tags": []
   },
   "outputs": [
    {
     "data": {
      "image/png": "[encoded data removed]",
      "text/plain": [
       "<Figure size 432x288 with 1 Axes>"
      ]
     },
     "metadata": {
      "needs_background": "light"
     },
     "output_type": "display_data"
    }
   ],
   "source": [
    "model_xgb_tmp = ModelBuilder(fix_param=dict([('learning_rate', 0.15), ('n_estimators', 200)]))\n",
    "model_xgb_tmp.initialize()\n",
    "eval_set = [(dMana.X_train, dMana.y_train), (dMana.X_test, dMana.y_test)]\n",
    "model_xgb_tmp.model.fit(dMana.X_train, dMana.y_train, eval_metric='logloss', eval_set=eval_set, verbose=False)\n",
    "results = model_xgb_tmp.model.evals_result()\n",
    "plt.plot(results['validation_0']['logloss'], label='train')\n",
    "plt.plot(results['validation_1']['logloss'], label='test')\n",
    "plt.legend()\n",
    "plt.show()"
   ]
  },
  {
   "cell_type": "markdown",
   "metadata": {},
   "source": [
    "## 2.2 Hyperparameter Tuning"
   ]
  },
  {
   "cell_type": "markdown",
   "metadata": {},
   "source": [
    "+ Choose a relatively high learning rate. Generally a learning rate of 0.1 works but somewhere between 0.05 to 0.3 should work for different problems. Determine the optimum number of trees for this learning rate. XGBoost has a very useful function called as “cv” which performs cross-validation at each boosting iteration and thus returns the optimum number of trees required.\n",
    "+ Tune tree-specific parameters ( max_depth, min_child_weight, gamma, subsample, colsample_bytree) for decided learning rate and number of trees. Note that we can choose different parameters to define a tree and I’ll take up an example here.\n",
    "+ Tune regularization parameters (lambda, alpha) for xgboost which can help reduce model complexity and enhance performance.\n",
    "+ Lower the learning rate and decide the optimal parameters."
   ]
  },
  {
   "cell_type": "code",
   "execution_count": 7,
   "metadata": {},
   "outputs": [],
   "source": [
    "def GS(param_default, search_grid, X_train, Y_train, scoring):\n",
    "    kfold = StratifiedKFold(n_splits=5, shuffle=True, random_state=SEED)\n",
    "    # kfold = RepeatedStratifiedKFold(n_splits=5, n_repeats=3, )\n",
    "    grid_search = GridSearchCV( xgb.XGBClassifier(**param_default, \n",
    "                                                  eval_metric='logloss', scale_pos_weight=scale_pos_weight, random_state=SEED,),\n",
    "                                search_grid, cv=kfold, scoring=scoring, refit=True, verbose=4, n_jobs=-1, )\n",
    "    \n",
    "    model_best = grid_search.fit(X_train, Y_train)\n",
    "    \n",
    "    print(model_best.best_score_)\n",
    "    print(model_best.best_estimator_)\n",
    "    print(model_best.best_estimator_.get_params())\n",
    "    return model_best"
   ]
  },
  {
   "cell_type": "code",
   "execution_count": 8,
   "metadata": {},
   "outputs": [],
   "source": [
    "import copy\n",
    "\n",
    "def get_models(param_list, pname, prange):\n",
    "    models = dict()\n",
    "    for i in prange:  # np.arange()\n",
    "        key = '%.1f' % i\n",
    "        param_list_tmp = copy.deepcopy(param_list)  # safe option\n",
    "        param_list_tmp[pname] = i\n",
    "        models[key] = xgb.XGBClassifier(**param_list_tmp, \n",
    "                                        eval_metric='logloss', scale_pos_weight=scale_pos_weight, random_state=SEED, )\n",
    "    return models\n",
    "\n",
    "def evaluate_model(model, X, y, scoring):\n",
    "    # define the evaluation procedure\n",
    "    # kfold = RepeatedStratifiedKFold(n_splits=5, n_repeats=3, )\n",
    "    kfold = StratifiedKFold(n_splits=5, shuffle=True, random_state=SEED)\n",
    "    # evaluate the model and collect the results\n",
    "    scores = cross_val_score(model, X, y, scoring=scoring, cv=kfold, n_jobs=-1, )\n",
    "    return scores"
   ]
  },
  {
   "cell_type": "code",
   "execution_count": 9,
   "metadata": {},
   "outputs": [],
   "source": [
    "def single_param(param_list, pname, prange, X, y, scoring):\n",
    "    # get the models to evaluate\n",
    "    models = get_models(param_list, pname, prange)\n",
    "    # evaluate the models and store results\n",
    "    results, names = list(), list()\n",
    "    for name, model in models.items():\n",
    "        # evaluate the model\n",
    "        scores = evaluate_model(model, X, y, scoring)\n",
    "        # store the results\n",
    "        names.append(name)\n",
    "        results.append(scores)\n",
    "        # summarize the performance along the way\n",
    "        print('>%s %.4f (%.4f)' % (name, np.mean(scores), np.std(scores)))\n",
    "    \n",
    "    plt.boxplot(results, labels=names, showmeans=True)\n",
    "    plt.xlabel(pname)\n",
    "    plt.ylabel(scoring)\n",
    "    plt.show()"
   ]
  },
  {
   "cell_type": "markdown",
   "metadata": {
    "tags": []
   },
   "source": [
    "### 2.2.1 Relatively high eta: \n",
    "#### {eta} => ?rounds"
   ]
  },
  {
   "cell_type": "code",
   "execution_count": 15,
   "metadata": {},
   "outputs": [],
   "source": [
    "scoring = 'roc_auc'  # roc_auc, f1\n",
    "scale_pos_weight = 1"
   ]
  },
  {
   "cell_type": "code",
   "execution_count": 16,
   "metadata": {
    "scrolled": true
   },
   "outputs": [
    {
     "name": "stdout",
     "output_type": "stream",
     "text": [
      ">50.0 0.9813 (0.0033)\n",
      ">150.0 0.9833 (0.0033)\n",
      ">250.0 0.9834 (0.0035)\n",
      ">350.0 0.9832 (0.0038)\n",
      ">450.0 0.9830 (0.0039)\n",
      ">550.0 0.9828 (0.0038)\n",
      ">650.0 0.9828 (0.0039)\n",
      ">750.0 0.9827 (0.0040)\n",
      ">850.0 0.9826 (0.0040)\n",
      ">950.0 0.9825 (0.0039)\n",
      ">1050.0 0.9824 (0.0039)\n"
     ]
    },
    {
     "data": {
      "image/png": "[encoded data removed]",
      "text/plain": [
       "<Figure size 432x288 with 1 Axes>"
      ]
     },
     "metadata": {
      "needs_background": "light"
     },
     "output_type": "display_data"
    }
   ],
   "source": [
    "param_1 = dict([('learning_rate', 0.15), ])\n",
    "single_param(param_1, 'n_estimators', np.arange(50, 1100, 100), dMana.X_train, dMana.y_train, scoring)  "
   ]
  },
  {
   "cell_type": "markdown",
   "metadata": {},
   "source": [
    "### 2.2.2 Tree-specific:  depth, hessians, gamma, subsample, colsample\n",
    "#### {eta, rounds} => ?max_depth, min_child_weight"
   ]
  },
  {
   "cell_type": "code",
   "execution_count": 21,
   "metadata": {
    "scrolled": true
   },
   "outputs": [
    {
     "name": "stdout",
     "output_type": "stream",
     "text": [
      "Fitting 5 folds for each of 75 candidates, totalling 375 fits\n"
     ]
    },
    {
     "name": "stderr",
     "output_type": "stream",
     "text": [
      "The use of label encoder in XGBClassifier is deprecated and will be removed in a future release. To remove this warning, do the following: 1) Pass option use_label_encoder=False when constructing XGBClassifier object; and 2) Encode your labels (y) as integers starting with 0, i.e. 0, 1, 2, ..., [num_class - 1].\n"
     ]
    },
    {
     "name": "stdout",
     "output_type": "stream",
     "text": [
      "0.9846260909986972\n",
      "XGBClassifier(base_score=0.5, booster='gbtree', colsample_bylevel=1,\n",
      "              colsample_bynode=1, colsample_bytree=1, enable_categorical=False,\n",
      "              eval_metric='logloss', gamma=0, gpu_id=-1, importance_type=None,\n",
      "              interaction_constraints='', learning_rate=0.15, max_delta_step=0,\n",
      "              max_depth=6, min_child_weight=1.0999999999999999, missing=nan,\n",
      "              monotone_constraints='()', n_estimators=250, n_jobs=16,\n",
      "              num_parallel_tree=1, predictor='auto', random_state=42,\n",
      "              reg_alpha=0, reg_lambda=1, scale_pos_weight=1, subsample=1,\n",
      "              tree_method='exact', validate_parameters=1, verbosity=None)\n",
      "{'objective': 'binary:logistic', 'use_label_encoder': True, 'base_score': 0.5, 'booster': 'gbtree', 'colsample_bylevel': 1, 'colsample_bynode': 1, 'colsample_bytree': 1, 'enable_categorical': False, 'gamma': 0, 'gpu_id': -1, 'importance_type': None, 'interaction_constraints': '', 'learning_rate': 0.15, 'max_delta_step': 0, 'max_depth': 6, 'min_child_weight': 1.0999999999999999, 'missing': nan, 'monotone_constraints': '()', 'n_estimators': 250, 'n_jobs': 16, 'num_parallel_tree': 1, 'predictor': 'auto', 'random_state': 42, 'reg_alpha': 0, 'reg_lambda': 1, 'scale_pos_weight': 1, 'subsample': 1, 'tree_method': 'exact', 'validate_parameters': 1, 'verbosity': None, 'eval_metric': 'logloss'}\n",
      "Wall time: 47.4 s\n"
     ]
    },
    {
     "data": {
      "text/plain": [
       "GridSearchCV(cv=StratifiedKFold(n_splits=5, random_state=42, shuffle=True),\n",
       "             estimator=XGBClassifier(base_score=None, booster=None,\n",
       "                                     colsample_bylevel=None,\n",
       "                                     colsample_bynode=None,\n",
       "                                     colsample_bytree=None,\n",
       "                                     enable_categorical=False,\n",
       "                                     eval_metric='logloss', gamma=None,\n",
       "                                     gpu_id=None, importance_type=None,\n",
       "                                     interaction_constraints=None,\n",
       "                                     learning_rate=0.15, max_delta_step=Non...\n",
       "                                     n_estimators=250, n_jobs=None,\n",
       "                                     num_parallel_tree=None, predictor=None,\n",
       "                                     random_state=42, reg_alpha=None,\n",
       "                                     reg_lambda=None, scale_pos_weight=1,\n",
       "                                     subsample=None, tree_method=None,\n",
       "                                     validate_parameters=None, verbosity=None),\n",
       "             n_jobs=-1,\n",
       "             param_grid={'max_depth': array([4, 5, 6, 7, 8]),\n",
       "                         'min_child_weight': array([0.5, 0.6, 0.7, 0.8, 0.9, 1. , 1.1, 1.2, 1.3, 1.4, 1.5, 1.6, 1.7,\n",
       "       1.8, 1.9])},\n",
       "             scoring='roc_auc', verbose=4)"
      ]
     },
     "execution_count": 21,
     "metadata": {},
     "output_type": "execute_result"
    }
   ],
   "source": [
    "%%time\n",
    "param_2 = dict([('learning_rate', 0.15), ('n_estimators', 250)])\n",
    "search_grid_1 = dict([('max_depth', np.arange(4, 9, 1)), ('min_child_weight', np.arange(0.5, 2, 0.1))])\n",
    "GS(param_2, search_grid_1, dMana.X_train, dMana.y_train, scoring)"
   ]
  },
  {
   "cell_type": "markdown",
   "metadata": {},
   "source": [
    "#### [ALT] {eta, rounds} => ?max_depth"
   ]
  },
  {
   "cell_type": "code",
   "execution_count": null,
   "metadata": {
    "scrolled": true
   },
   "outputs": [],
   "source": [
    "param_2 = dict([('learning_rate', 0.15), ('n_estimators', 250)])\n",
    "# search_grid_1 = dict([('max_depth', np.arange(5, 9, 1)), ('min_child_weight', np.arange(0.5, 10, 2))])\n",
    "# GS(param_2, search_grid_1, X_train, Y_train, 'f1')\n",
    "single_param(param_2, 'max_depth', np.arange(3, 9, 1), dMana.X_train, dMana.y_train, scoring)"
   ]
  },
  {
   "cell_type": "markdown",
   "metadata": {},
   "source": [
    "#### [ALT] {eta, rounds, max_depth} => ?min_child_weight"
   ]
  },
  {
   "cell_type": "code",
   "execution_count": null,
   "metadata": {
    "scrolled": true
   },
   "outputs": [],
   "source": [
    "param_3 = dict([('learning_rate', 0.15), ('n_estimators', 250), ('max_depth', 4)])\n",
    "single_param(param_3, 'min_child_weight', np.arange(0.1, 3, 0.3) , X_train, Y_train, scoring)  # np.arange(0.2, 2, 0.2)"
   ]
  },
  {
   "cell_type": "markdown",
   "metadata": {},
   "source": [
    "#### {eta, rounds, max_depth, min_child_weight} => ?gamma"
   ]
  },
  {
   "cell_type": "code",
   "execution_count": 23,
   "metadata": {
    "scrolled": true
   },
   "outputs": [
    {
     "name": "stdout",
     "output_type": "stream",
     "text": [
      ">0.1 0.9839 (0.0023)\n",
      ">0.2 0.9840 (0.0028)\n",
      ">0.3 0.9837 (0.0028)\n",
      ">0.4 0.9831 (0.0025)\n",
      ">0.5 0.9828 (0.0026)\n",
      ">0.6 0.9823 (0.0021)\n",
      ">0.7 0.9826 (0.0030)\n",
      ">0.8 0.9828 (0.0028)\n",
      ">0.9 0.9820 (0.0029)\n"
     ]
    },
    {
     "data": {
      "image/png": "[encoded data removed]",
      "text/plain": [
       "<Figure size 432x288 with 1 Axes>"
      ]
     },
     "metadata": {
      "needs_background": "light"
     },
     "output_type": "display_data"
    },
    {
     "name": "stdout",
     "output_type": "stream",
     "text": [
      "Wall time: 11.8 s\n"
     ]
    }
   ],
   "source": [
    "%%time\n",
    "param_3 = dict([('learning_rate', 0.15), ('n_estimators', 250), ('max_depth', 6), ('min_child_weight', 1.1)])\n",
    "single_param(param_3, 'gamma', np.arange(0.1, 1, 0.1), dMana.X_train, dMana.y_train, scoring)  # np.arange(0.1, 1, 0.2), [0, 0.5, 1, 10, 100]"
   ]
  },
  {
   "cell_type": "markdown",
   "metadata": {},
   "source": [
    "#### {eta, rounds, max_depth, min_child_weight, gamma}, => ?subsample, ?colsample_bytree"
   ]
  },
  {
   "cell_type": "code",
   "execution_count": 24,
   "metadata": {
    "scrolled": true
   },
   "outputs": [
    {
     "name": "stdout",
     "output_type": "stream",
     "text": [
      "Fitting 5 folds for each of 36 candidates, totalling 180 fits\n"
     ]
    },
    {
     "name": "stderr",
     "output_type": "stream",
     "text": [
      "The use of label encoder in XGBClassifier is deprecated and will be removed in a future release. To remove this warning, do the following: 1) Pass option use_label_encoder=False when constructing XGBClassifier object; and 2) Encode your labels (y) as integers starting with 0, i.e. 0, 1, 2, ..., [num_class - 1].\n"
     ]
    },
    {
     "name": "stdout",
     "output_type": "stream",
     "text": [
      "0.9849454548663678\n",
      "XGBClassifier(base_score=0.5, booster='gbtree', colsample_bylevel=1,\n",
      "              colsample_bynode=1, colsample_bytree=0.9999999999999999,\n",
      "              enable_categorical=False, eval_metric='logloss', gamma=0.2,\n",
      "              gpu_id=-1, importance_type=None, interaction_constraints='',\n",
      "              learning_rate=0.15, max_delta_step=0, max_depth=6,\n",
      "              min_child_weight=1.1, missing=nan, monotone_constraints='()',\n",
      "              n_estimators=250, n_jobs=16, num_parallel_tree=1,\n",
      "              predictor='auto', random_state=42, reg_alpha=0, reg_lambda=1,\n",
      "              scale_pos_weight=1, subsample=0.8999999999999999,\n",
      "              tree_method='exact', validate_parameters=1, verbosity=None)\n",
      "{'objective': 'binary:logistic', 'use_label_encoder': True, 'base_score': 0.5, 'booster': 'gbtree', 'colsample_bylevel': 1, 'colsample_bynode': 1, 'colsample_bytree': 0.9999999999999999, 'enable_categorical': False, 'gamma': 0.2, 'gpu_id': -1, 'importance_type': None, 'interaction_constraints': '', 'learning_rate': 0.15, 'max_delta_step': 0, 'max_depth': 6, 'min_child_weight': 1.1, 'missing': nan, 'monotone_constraints': '()', 'n_estimators': 250, 'n_jobs': 16, 'num_parallel_tree': 1, 'predictor': 'auto', 'random_state': 42, 'reg_alpha': 0, 'reg_lambda': 1, 'scale_pos_weight': 1, 'subsample': 0.8999999999999999, 'tree_method': 'exact', 'validate_parameters': 1, 'verbosity': None, 'eval_metric': 'logloss'}\n",
      "Wall time: 22 s\n"
     ]
    },
    {
     "data": {
      "text/plain": [
       "GridSearchCV(cv=StratifiedKFold(n_splits=5, random_state=42, shuffle=True),\n",
       "             estimator=XGBClassifier(base_score=None, booster=None,\n",
       "                                     colsample_bylevel=None,\n",
       "                                     colsample_bynode=None,\n",
       "                                     colsample_bytree=None,\n",
       "                                     enable_categorical=False,\n",
       "                                     eval_metric='logloss', gamma=0.2,\n",
       "                                     gpu_id=None, importance_type=None,\n",
       "                                     interaction_constraints=None,\n",
       "                                     learning_rate=0.15, max_delta_step=None...\n",
       "                                     n_estimators=250, n_jobs=None,\n",
       "                                     num_parallel_tree=None, predictor=None,\n",
       "                                     random_state=42, reg_alpha=None,\n",
       "                                     reg_lambda=None, scale_pos_weight=1,\n",
       "                                     subsample=None, tree_method=None,\n",
       "                                     validate_parameters=None, verbosity=None),\n",
       "             n_jobs=-1,\n",
       "             param_grid={'colsample_bytree': array([0.5, 0.6, 0.7, 0.8, 0.9, 1. ]),\n",
       "                         'subsample': array([0.5, 0.6, 0.7, 0.8, 0.9, 1. ])},\n",
       "             scoring='roc_auc', verbose=4)"
      ]
     },
     "execution_count": 24,
     "metadata": {},
     "output_type": "execute_result"
    }
   ],
   "source": [
    "%%time\n",
    "param_4 = dict([('learning_rate', 0.15), ('n_estimators', 250), ('max_depth', 6), ('min_child_weight', 1.1), ('gamma', 0.2)])\n",
    "search_grid_2 = dict([('subsample', np.arange(0.5, 1.01, 0.1)), ('colsample_bytree', np.arange(0.5, 1.01, 0.1))])\n",
    "GS(param_4, search_grid_2, dMana.X_train, dMana.y_train, scoring)"
   ]
  },
  {
   "cell_type": "markdown",
   "metadata": {},
   "source": [
    "### 2.2.3 Regularization Parameters \n",
    "#### {eta, rounds, max_depth, min_child_weight, gamma, subsample, colsample_bytree} => ?reg_lambda, ?reg_alpha"
   ]
  },
  {
   "cell_type": "code",
   "execution_count": 27,
   "metadata": {
    "scrolled": true
   },
   "outputs": [
    {
     "name": "stdout",
     "output_type": "stream",
     "text": [
      "Fitting 5 folds for each of 25 candidates, totalling 125 fits\n"
     ]
    },
    {
     "name": "stderr",
     "output_type": "stream",
     "text": [
      "The use of label encoder in XGBClassifier is deprecated and will be removed in a future release. To remove this warning, do the following: 1) Pass option use_label_encoder=False when constructing XGBClassifier object; and 2) Encode your labels (y) as integers starting with 0, i.e. 0, 1, 2, ..., [num_class - 1].\n"
     ]
    },
    {
     "name": "stdout",
     "output_type": "stream",
     "text": [
      "0.9850076170314959\n",
      "XGBClassifier(base_score=0.5, booster='gbtree', colsample_bylevel=1,\n",
      "              colsample_bynode=1, colsample_bytree=1.0,\n",
      "              enable_categorical=False, eval_metric='logloss', gamma=0.2,\n",
      "              gpu_id=-1, importance_type=None, interaction_constraints='',\n",
      "              learning_rate=0.15, max_delta_step=0, max_depth=6,\n",
      "              min_child_weight=1.1, missing=nan, monotone_constraints='()',\n",
      "              n_estimators=250, n_jobs=16, num_parallel_tree=1,\n",
      "              predictor='auto', random_state=42, reg_alpha=0.001, reg_lambda=1,\n",
      "              scale_pos_weight=1, subsample=0.9, tree_method='exact',\n",
      "              validate_parameters=1, verbosity=None)\n",
      "{'objective': 'binary:logistic', 'use_label_encoder': True, 'base_score': 0.5, 'booster': 'gbtree', 'colsample_bylevel': 1, 'colsample_bynode': 1, 'colsample_bytree': 1.0, 'enable_categorical': False, 'gamma': 0.2, 'gpu_id': -1, 'importance_type': None, 'interaction_constraints': '', 'learning_rate': 0.15, 'max_delta_step': 0, 'max_depth': 6, 'min_child_weight': 1.1, 'missing': nan, 'monotone_constraints': '()', 'n_estimators': 250, 'n_jobs': 16, 'num_parallel_tree': 1, 'predictor': 'auto', 'random_state': 42, 'reg_alpha': 0.001, 'reg_lambda': 1, 'scale_pos_weight': 1, 'subsample': 0.9, 'tree_method': 'exact', 'validate_parameters': 1, 'verbosity': None, 'eval_metric': 'logloss'}\n",
      "Wall time: 16 s\n"
     ]
    },
    {
     "data": {
      "text/plain": [
       "GridSearchCV(cv=StratifiedKFold(n_splits=5, random_state=42, shuffle=True),\n",
       "             estimator=XGBClassifier(base_score=None, booster=None,\n",
       "                                     colsample_bylevel=None,\n",
       "                                     colsample_bynode=None,\n",
       "                                     colsample_bytree=1.0,\n",
       "                                     enable_categorical=False,\n",
       "                                     eval_metric='logloss', gamma=0.2,\n",
       "                                     gpu_id=None, importance_type=None,\n",
       "                                     interaction_constraints=None,\n",
       "                                     learning_rate=0.15, max_delta_step=None,...\n",
       "                                     missing=nan, monotone_constraints=None,\n",
       "                                     n_estimators=250, n_jobs=None,\n",
       "                                     num_parallel_tree=None, predictor=None,\n",
       "                                     random_state=42, reg_alpha=None,\n",
       "                                     reg_lambda=None, scale_pos_weight=1,\n",
       "                                     subsample=0.9, tree_method=None,\n",
       "                                     validate_parameters=None, verbosity=None),\n",
       "             n_jobs=-1,\n",
       "             param_grid={'reg_alpha': [0, 0.001, 0.01, 0.1, 1],\n",
       "                         'reg_lambda': [0, 0.001, 0.01, 0.1, 1]},\n",
       "             scoring='roc_auc', verbose=4)"
      ]
     },
     "execution_count": 27,
     "metadata": {},
     "output_type": "execute_result"
    }
   ],
   "source": [
    "%%time\n",
    "param_5 = dict([('learning_rate', 0.15), ('n_estimators', 250), ('max_depth', 6), ('min_child_weight', 1.1), ('gamma', 0.2), ('subsample', 0.9), ('colsample_bytree', 1.0)])\n",
    "search_grid_3 = dict([('reg_lambda', [0, 1e-3, 1e-2, 0.1, 1, ]), ('reg_alpha', [0, 1e-3, 1e-2, 0.1, 1, ])])\n",
    "GS(param_5, search_grid_3, dMana.X_train, dMana.y_train, scoring)"
   ]
  },
  {
   "cell_type": "code",
   "execution_count": null,
   "metadata": {},
   "outputs": [],
   "source": []
  }
 ],
 "metadata": {
  "kernelspec": {
   "display_name": "PyCharm (pre_grad_research)",
   "language": "python",
   "name": "pycharm-7f37bea8"
  },
  "language_info": {
   "codemirror_mode": {
    "name": "ipython",
    "version": 3
   },
   "file_extension": ".py",
   "mimetype": "text/x-python",
   "name": "python",
   "nbconvert_exporter": "python",
   "pygments_lexer": "ipython3",
   "version": "3.8.5"
  }
 },
 "nbformat": 4,
 "nbformat_minor": 4
}
